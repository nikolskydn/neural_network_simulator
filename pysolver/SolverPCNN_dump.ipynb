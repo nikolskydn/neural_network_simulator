{
 "cells": [
  {
   "cell_type": "markdown",
   "metadata": {},
   "source": [
    "Расчеты для тестирования модели Е.Ижикевича из класса импульсно-связанных моделей нейронной сети \n",
    "(pulse-coupled neural networks PCNN).\n",
    "\n",
    "    Izhikevich E.M. Simple Model of Spiking neurons// IEEE transactions on neural networks. V.14. N.6. 2003. PP.1569-1572\n"
   ]
  },
  {
   "cell_type": "code",
   "execution_count": 1,
   "metadata": {
    "collapsed": false
   },
   "outputs": [],
   "source": [
    "from numpy import *\n",
    "import sys"
   ]
  },
  {
   "cell_type": "code",
   "execution_count": 2,
   "metadata": {
    "collapsed": true
   },
   "outputs": [],
   "source": [
    "Ne=8\n",
    "Ni=2"
   ]
  },
  {
   "cell_type": "code",
   "execution_count": 3,
   "metadata": {
    "collapsed": false
   },
   "outputs": [],
   "source": [
    "#re=random.rand(Ne)\n",
    "#ri=random.rand(Ni)"
   ]
  },
  {
   "cell_type": "code",
   "execution_count": 4,
   "metadata": {
    "collapsed": false
   },
   "outputs": [],
   "source": [
    "nS=1\n",
    "a=r_[0.02*ones(Ne),0.02+0.08*ones(Ni)]\n",
    "b=r_[0.2*ones(Ne),0.25-0.05*ones(Ni)]\n",
    "c=r_[-65+15*ones(Ne),-65*ones(Ni)]\n",
    "d=r_[8-6*ones(Ne),2*ones(Ni)]\n",
    "w=c_[0.5*ones((Ne+Ni,Ne)), -ones((Ne+Ni,Ni))]\n",
    "VR=-65\n",
    "V=VR*ones(Ne+Ni)\n",
    "V[0]=V[2]=-50\n",
    "VP=30\n",
    "m=V>=VP\n",
    "U=b*V\n",
    "tEnd=3\n",
    "t=0\n",
    "dt=1\n",
    "dt_2=0.5*dt\n",
    "I=r_[5*ones(Ne),2*ones(Ni)]"
   ]
  },
  {
   "cell_type": "code",
   "execution_count": 5,
   "metadata": {
    "collapsed": false
   },
   "outputs": [
    {
     "name": "stdout",
     "output_type": "stream",
     "text": [
      "# nS\n",
      "1\n",
      "# t\n",
      "0.000000\n",
      "# tEnd\n",
      "3.000000\n",
      "# dt\n",
      "1.000000\n",
      "# dtDump\n",
      "1.000000\n",
      "# nNeurs\n",
      "10\n",
      "# nNeursExc\n",
      "8\n",
      "# V\n",
      "-50.0000 -65.0000 -50.0000 -65.0000 -65.0000 -65.0000 -65.0000 -65.0000 -65.0000 -65.0000 \n",
      "# m\n",
      "       0        0        0        0        0        0        0        0        0        0 \n",
      "# VPeak\n",
      " 30.000000\n",
      "\n",
      "# VReset\n",
      " -65.000000\n",
      "\n",
      "# I\n",
      "  5.0000   5.0000   5.0000   5.0000   5.0000   5.0000   5.0000   5.0000   2.0000   2.0000 \n",
      "# w\n",
      "  0.5000   0.5000   0.5000   0.5000   0.5000   0.5000   0.5000   0.5000  -1.0000  -1.0000   0.5000   0.5000   0.5000   0.5000   0.5000   0.5000   0.5000   0.5000  -1.0000  -1.0000   0.5000   0.5000   0.5000   0.5000   0.5000   0.5000   0.5000   0.5000  -1.0000  -1.0000   0.5000   0.5000   0.5000   0.5000   0.5000   0.5000   0.5000   0.5000  -1.0000  -1.0000   0.5000   0.5000   0.5000   0.5000   0.5000   0.5000   0.5000   0.5000  -1.0000  -1.0000   0.5000   0.5000   0.5000   0.5000   0.5000   0.5000   0.5000   0.5000  -1.0000  -1.0000   0.5000   0.5000   0.5000   0.5000   0.5000   0.5000   0.5000   0.5000  -1.0000  -1.0000   0.5000   0.5000   0.5000   0.5000   0.5000   0.5000   0.5000   0.5000  -1.0000  -1.0000   0.5000   0.5000   0.5000   0.5000   0.5000   0.5000   0.5000   0.5000  -1.0000  -1.0000   0.5000   0.5000   0.5000   0.5000   0.5000   0.5000   0.5000   0.5000  -1.0000  -1.0000 \n",
      "# U\n",
      "-10.0000 -13.0000 -10.0000 -13.0000 -13.0000 -13.0000 -13.0000 -13.0000 -13.0000 -13.0000 \n",
      "# a\n",
      "  0.0200   0.0200   0.0200   0.0200   0.0200   0.0200   0.0200   0.0200   0.1000   0.1000 \n",
      "# b\n",
      "  0.2000   0.2000   0.2000   0.2000   0.2000   0.2000   0.2000   0.2000   0.2000   0.2000 \n",
      "# c\n",
      "-50.0000 -50.0000 -50.0000 -50.0000 -50.0000 -50.0000 -50.0000 -50.0000 -65.0000 -65.0000 \n",
      "# d\n",
      "  2.0000   2.0000   2.0000   2.0000   2.0000   2.0000   2.0000   2.0000   2.0000   2.0000 "
     ]
    }
   ],
   "source": [
    "# prepare in data for tested SolverPCNN \n",
    "def printDump():\n",
    "    print \"# nS\\n%i\" % nS\n",
    "    print \"# t\\n%f\" % t\n",
    "    print \"# tEnd\\n%f\" % tEnd\n",
    "    print \"# dt\\n%f\" % dt\n",
    "    print \"# dtDump\\n%f\" % dt\n",
    "    print \"# nNeurs\\n%i\" % (Ni+Ne)\n",
    "    print \"# nNeursExc\\n%i\"% Ne\n",
    "    print \"# V\"\n",
    "    savetxt(sys.stdout, V, fmt='%8.4f', delimiter=' ', newline=' ')\n",
    "    print \"\\n# m\"\n",
    "    savetxt(sys.stdout, m, fmt='%8d',delimiter=' ', newline=' ')\n",
    "    print \"\\n# VPeak\\n %f\" % VP\n",
    "    print \"\\n# VReset\\n %f\" % VR\n",
    "    print \"\\n# I\"\n",
    "    savetxt(sys.stdout, I, fmt='%8.4f', delimiter=' ', newline=' ')\n",
    "    print \"\\n# w\"\n",
    "    savetxt(sys.stdout, w, fmt='%8.4f', delimiter=' ', newline=' ')\n",
    "    print \"\\n# U\"\n",
    "    savetxt(sys.stdout, U, fmt='%8.4f', delimiter=' ', newline=' ')\n",
    "    print \"\\n# a\"\n",
    "    savetxt(sys.stdout, a, fmt='%8.4f', delimiter=' ', newline=' ')\n",
    "    print \"\\n# b\"\n",
    "    savetxt(sys.stdout, b, fmt='%8.4f', delimiter=' ', newline=' ')\n",
    "    print \"\\n# c\"\n",
    "    savetxt(sys.stdout, c, fmt='%8.4f', delimiter=' ', newline=' ')\n",
    "    print \"\\n# d\"\n",
    "    savetxt(sys.stdout, d, fmt='%8.4f', delimiter=' ', newline=' ')\n",
    "printDump()"
   ]
  },
  {
   "cell_type": "code",
   "execution_count": 6,
   "metadata": {
    "collapsed": false
   },
   "outputs": [],
   "source": [
    "while t<=tEnd:\n",
    "    m=V>=VP\n",
    "    V[m]=c[m]\n",
    "    U[m]+=d[m]\n",
    "    I+=sum(w[:,m],1)\n",
    "    V+=dt_2*(0.04*V**2+5*V+140-U+I)\n",
    "    V+=dt_2*(0.04*V**2+5*V+140-U+I)\n",
    "    U+=dt*a*(b*V-U)\n",
    "    t+=dt"
   ]
  },
  {
   "cell_type": "code",
   "execution_count": 7,
   "metadata": {
    "collapsed": false
   },
   "outputs": [
    {
     "name": "stdout",
     "output_type": "stream",
     "text": [
      "# nS\n",
      "1\n",
      "# t\n",
      "4.000000\n",
      "# tEnd\n",
      "3.000000\n",
      "# dt\n",
      "1.000000\n",
      "# dtDump\n",
      "1.000000\n",
      "# nNeurs\n",
      "10\n",
      "# nNeursExc\n",
      "8\n",
      "# V\n",
      "-45.7826 -56.1882 -45.7826 -56.1882 -56.1882 -56.1882 -56.1882 -56.1882 -66.4870 -66.4870 \n",
      "# m\n",
      "       1        0        1        0        0        0        0        0        0        0 \n",
      "# VPeak\n",
      " 30.000000\n",
      "\n",
      "# VReset\n",
      " -65.000000\n",
      "\n",
      "# I\n",
      "  6.0000   6.0000   6.0000   6.0000   6.0000   6.0000   6.0000   6.0000   3.0000   3.0000 \n",
      "# w\n",
      "  0.5000   0.5000   0.5000   0.5000   0.5000   0.5000   0.5000   0.5000  -1.0000  -1.0000   0.5000   0.5000   0.5000   0.5000   0.5000   0.5000   0.5000   0.5000  -1.0000  -1.0000   0.5000   0.5000   0.5000   0.5000   0.5000   0.5000   0.5000   0.5000  -1.0000  -1.0000   0.5000   0.5000   0.5000   0.5000   0.5000   0.5000   0.5000   0.5000  -1.0000  -1.0000   0.5000   0.5000   0.5000   0.5000   0.5000   0.5000   0.5000   0.5000  -1.0000  -1.0000   0.5000   0.5000   0.5000   0.5000   0.5000   0.5000   0.5000   0.5000  -1.0000  -1.0000   0.5000   0.5000   0.5000   0.5000   0.5000   0.5000   0.5000   0.5000  -1.0000  -1.0000   0.5000   0.5000   0.5000   0.5000   0.5000   0.5000   0.5000   0.5000  -1.0000  -1.0000   0.5000   0.5000   0.5000   0.5000   0.5000   0.5000   0.5000   0.5000  -1.0000  -1.0000   0.5000   0.5000   0.5000   0.5000   0.5000   0.5000   0.5000   0.5000  -1.0000  -1.0000 \n",
      "# U\n",
      " -7.3661 -12.9218  -7.3661 -12.9218 -12.9218 -12.9218 -12.9218 -12.9218 -13.1083 -13.1083 \n",
      "# a\n",
      "  0.0200   0.0200   0.0200   0.0200   0.0200   0.0200   0.0200   0.0200   0.1000   0.1000 \n",
      "# b\n",
      "  0.2000   0.2000   0.2000   0.2000   0.2000   0.2000   0.2000   0.2000   0.2000   0.2000 \n",
      "# c\n",
      "-50.0000 -50.0000 -50.0000 -50.0000 -50.0000 -50.0000 -50.0000 -50.0000 -65.0000 -65.0000 \n",
      "# d\n",
      "  2.0000   2.0000   2.0000   2.0000   2.0000   2.0000   2.0000   2.0000   2.0000   2.0000 "
     ]
    }
   ],
   "source": [
    "printDump()"
   ]
  },
  {
   "cell_type": "code",
   "execution_count": null,
   "metadata": {
    "collapsed": true
   },
   "outputs": [],
   "source": []
  },
  {
   "cell_type": "code",
   "execution_count": null,
   "metadata": {
    "collapsed": true
   },
   "outputs": [],
   "source": []
  },
  {
   "cell_type": "code",
   "execution_count": null,
   "metadata": {
    "collapsed": true
   },
   "outputs": [],
   "source": []
  }
 ],
 "metadata": {
  "anaconda-cloud": {},
  "kernelspec": {
   "display_name": "Python [default]",
   "language": "python",
   "name": "python2"
  },
  "language_info": {
   "codemirror_mode": {
    "name": "ipython",
    "version": 2
   },
   "file_extension": ".py",
   "mimetype": "text/x-python",
   "name": "python",
   "nbconvert_exporter": "python",
   "pygments_lexer": "ipython2",
   "version": "2.7.12"
  }
 },
 "nbformat": 4,
 "nbformat_minor": 1
}
