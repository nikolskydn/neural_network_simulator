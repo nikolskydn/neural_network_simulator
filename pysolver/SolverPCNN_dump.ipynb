{
 "cells": [
  {
   "cell_type": "markdown",
   "metadata": {},
   "source": [
    "Расчеты для тестирования модели Е.Ижикевича из класса импульсно-связанных моделей нейронной сети \n",
    "(pulse-coupled neural networks PCNN).\n",
    "\n",
    "    Izhikevich E.M. Simple Model of Spiking neurons// IEEE transactions on neural networks. V.14. N.6. 2003. PP.1569-1572\n"
   ]
  },
  {
   "cell_type": "code",
   "execution_count": 1,
   "metadata": {
    "collapsed": false
   },
   "outputs": [],
   "source": [
    "from numpy import *\n",
    "import sys"
   ]
  },
  {
   "cell_type": "code",
   "execution_count": 2,
   "metadata": {
    "collapsed": true
   },
   "outputs": [],
   "source": [
    "Ne=8\n",
    "Ni=2"
   ]
  },
  {
   "cell_type": "code",
   "execution_count": 3,
   "metadata": {
    "collapsed": false
   },
   "outputs": [],
   "source": [
    "#re=random.rand(Ne)\n",
    "#ri=random.rand(Ni)"
   ]
  },
  {
   "cell_type": "code",
   "execution_count": 4,
   "metadata": {
    "collapsed": false
   },
   "outputs": [],
   "source": [
    "nS=1\n",
    "a=r_[0.02*ones(Ne),0.02+0.08*ones(Ni)]\n",
    "b=r_[0.2*ones(Ne),0.25-0.05*ones(Ni)]\n",
    "c=r_[-65+15*ones(Ne),-65*ones(Ni)]\n",
    "d=r_[8-6*ones(Ne),2*ones(Ni)]\n",
    "w=c_[0.5*ones((Ne+Ni,Ne)), -ones((Ne+Ni,Ni))]\n",
    "VR=-65\n",
    "V=VR*ones(Ne+Ni)\n",
    "V[0]=V[2]=-50\n",
    "VP=30\n",
    "m=V>=VP\n",
    "U=b*V\n",
    "st=3\n",
    "t=0\n",
    "dt=1\n",
    "dt_2=0.5*dt\n",
    "I=r_[5*ones(Ne),2*ones(Ni)]"
   ]
  },
  {
   "cell_type": "code",
   "execution_count": 5,
   "metadata": {
    "collapsed": false
   },
   "outputs": [
    {
     "name": "stdout",
     "output_type": "stream",
     "text": [
      "       1   0.0000   3.0000   1.0000        10 -50.0000 -65.0000 -50.0000 -65.0000 -65.0000 -65.0000 -65.0000 -65.0000 -65.0000 -65.0000        0        0        0        0        0        0        0        0        0        0   30.0000 -65.0000   5.0000   5.0000   5.0000   5.0000   5.0000   5.0000   5.0000   5.0000   2.0000   2.0000   0.5000   0.5000   0.5000   0.5000   0.5000   0.5000   0.5000   0.5000  -1.0000  -1.0000   0.5000   0.5000   0.5000   0.5000   0.5000   0.5000   0.5000   0.5000  -1.0000  -1.0000   0.5000   0.5000   0.5000   0.5000   0.5000   0.5000   0.5000   0.5000  -1.0000  -1.0000   0.5000   0.5000   0.5000   0.5000   0.5000   0.5000   0.5000   0.5000  -1.0000  -1.0000   0.5000   0.5000   0.5000   0.5000   0.5000   0.5000   0.5000   0.5000  -1.0000  -1.0000   0.5000   0.5000   0.5000   0.5000   0.5000   0.5000   0.5000   0.5000  -1.0000  -1.0000   0.5000   0.5000   0.5000   0.5000   0.5000   0.5000   0.5000   0.5000  -1.0000  -1.0000   0.5000   0.5000   0.5000   0.5000   0.5000   0.5000   0.5000   0.5000  -1.0000  -1.0000   0.5000   0.5000   0.5000   0.5000   0.5000   0.5000   0.5000   0.5000  -1.0000  -1.0000   0.5000   0.5000   0.5000   0.5000   0.5000   0.5000   0.5000   0.5000  -1.0000  -1.0000 -10.0000 -13.0000 -10.0000 -13.0000 -13.0000 -13.0000 -13.0000 -13.0000 -13.0000 -13.0000   0.0200   0.0200   0.0200   0.0200   0.0200   0.0200   0.0200   0.0200   0.1000   0.1000   0.2000   0.2000   0.2000   0.2000   0.2000   0.2000   0.2000   0.2000   0.2000   0.2000 -50.0000 -50.0000 -50.0000 -50.0000 -50.0000 -50.0000 -50.0000 -50.0000 -65.0000 -65.0000   2.0000   2.0000   2.0000   2.0000   2.0000   2.0000   2.0000   2.0000   2.0000   2.0000 \n"
     ]
    }
   ],
   "source": [
    "# prepare in data for tested SolverPCNN  \n",
    "def printDump():\n",
    "    print \"%8i\" % nS,\n",
    "    print \"%8.4f %8.4f %8.4f \" % (t, st, dt),\n",
    "    print \"%8i \" % (Ni+Ne),\n",
    "    savetxt(sys.stdout, V, fmt='%8.4f', delimiter=' ', newline=' ')\n",
    "    savetxt(sys.stdout, m, fmt='%8d',delimiter=' ', newline=' ')\n",
    "    print \"%8.4f %8.4f \" % (VP, VR),\n",
    "    savetxt(sys.stdout, I, fmt='%8.4f', delimiter=' ', newline=' ')\n",
    "    savetxt(sys.stdout, w, fmt='%8.4f', delimiter=' ', newline=' ')\n",
    "    savetxt(sys.stdout, U, fmt='%8.4f', delimiter=' ', newline=' ')\n",
    "    savetxt(sys.stdout, a, fmt='%8.4f', delimiter=' ', newline=' ')\n",
    "    savetxt(sys.stdout, b, fmt='%8.4f', delimiter=' ', newline=' ')\n",
    "    savetxt(sys.stdout, c, fmt='%8.4f', delimiter=' ', newline=' ')\n",
    "    savetxt(sys.stdout, d, fmt='%8.4f', delimiter=' ', newline=' ')\n",
    "printDump()"
   ]
  },
  {
   "cell_type": "code",
   "execution_count": 6,
   "metadata": {
    "collapsed": false
   },
   "outputs": [],
   "source": [
    "while t<=st:\n",
    "    m=V>=VP\n",
    "    V[m]=c[m]\n",
    "    U[m]+=d[m]\n",
    "    I+=sum(w[:,m],1)\n",
    "    V+=dt_2*(0.04*V**2+5*V+140-U+I)\n",
    "    V+=dt_2*(0.04*V**2+5*V+140-U+I)\n",
    "    U+=dt*a*(b*V-U)\n",
    "    t+=dt"
   ]
  },
  {
   "cell_type": "code",
   "execution_count": 7,
   "metadata": {
    "collapsed": false
   },
   "outputs": [
    {
     "name": "stdout",
     "output_type": "stream",
     "text": [
      "       1   4.0000   3.0000   1.0000        10 -45.7826 -56.1882 -45.7826 -56.1882 -56.1882 -56.1882 -56.1882 -56.1882 -66.4870 -66.4870        1        0        1        0        0        0        0        0        0        0   30.0000 -65.0000   6.0000   6.0000   6.0000   6.0000   6.0000   6.0000   6.0000   6.0000   3.0000   3.0000   0.5000   0.5000   0.5000   0.5000   0.5000   0.5000   0.5000   0.5000  -1.0000  -1.0000   0.5000   0.5000   0.5000   0.5000   0.5000   0.5000   0.5000   0.5000  -1.0000  -1.0000   0.5000   0.5000   0.5000   0.5000   0.5000   0.5000   0.5000   0.5000  -1.0000  -1.0000   0.5000   0.5000   0.5000   0.5000   0.5000   0.5000   0.5000   0.5000  -1.0000  -1.0000   0.5000   0.5000   0.5000   0.5000   0.5000   0.5000   0.5000   0.5000  -1.0000  -1.0000   0.5000   0.5000   0.5000   0.5000   0.5000   0.5000   0.5000   0.5000  -1.0000  -1.0000   0.5000   0.5000   0.5000   0.5000   0.5000   0.5000   0.5000   0.5000  -1.0000  -1.0000   0.5000   0.5000   0.5000   0.5000   0.5000   0.5000   0.5000   0.5000  -1.0000  -1.0000   0.5000   0.5000   0.5000   0.5000   0.5000   0.5000   0.5000   0.5000  -1.0000  -1.0000   0.5000   0.5000   0.5000   0.5000   0.5000   0.5000   0.5000   0.5000  -1.0000  -1.0000  -7.3661 -12.9218  -7.3661 -12.9218 -12.9218 -12.9218 -12.9218 -12.9218 -13.1083 -13.1083   0.0200   0.0200   0.0200   0.0200   0.0200   0.0200   0.0200   0.0200   0.1000   0.1000   0.2000   0.2000   0.2000   0.2000   0.2000   0.2000   0.2000   0.2000   0.2000   0.2000 -50.0000 -50.0000 -50.0000 -50.0000 -50.0000 -50.0000 -50.0000 -50.0000 -65.0000 -65.0000   2.0000   2.0000   2.0000   2.0000   2.0000   2.0000   2.0000   2.0000   2.0000   2.0000 \n"
     ]
    }
   ],
   "source": [
    "printDump()"
   ]
  },
  {
   "cell_type": "code",
   "execution_count": null,
   "metadata": {
    "collapsed": true
   },
   "outputs": [],
   "source": []
  },
  {
   "cell_type": "code",
   "execution_count": null,
   "metadata": {
    "collapsed": true
   },
   "outputs": [],
   "source": []
  },
  {
   "cell_type": "code",
   "execution_count": null,
   "metadata": {
    "collapsed": true
   },
   "outputs": [],
   "source": []
  }
 ],
 "metadata": {
  "anaconda-cloud": {},
  "kernelspec": {
   "display_name": "Python [default]",
   "language": "python",
   "name": "python2"
  },
  "language_info": {
   "codemirror_mode": {
    "name": "ipython",
    "version": 2
   },
   "file_extension": ".py",
   "mimetype": "text/x-python",
   "name": "python",
   "nbconvert_exporter": "python",
   "pygments_lexer": "ipython2",
   "version": "2.7.12"
  }
 },
 "nbformat": 4,
 "nbformat_minor": 1
}
